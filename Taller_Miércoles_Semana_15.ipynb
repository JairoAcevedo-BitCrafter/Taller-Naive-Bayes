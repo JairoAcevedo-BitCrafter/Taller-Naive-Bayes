{
  "nbformat": 4,
  "nbformat_minor": 0,
  "metadata": {
    "colab": {
      "provenance": [],
      "authorship_tag": "ABX9TyNcSWUDzDpiiJjk6nnItowG",
      "include_colab_link": true
    },
    "kernelspec": {
      "name": "python3",
      "display_name": "Python 3"
    },
    "language_info": {
      "name": "python"
    }
  },
  "cells": [
    {
      "cell_type": "markdown",
      "metadata": {
        "id": "view-in-github",
        "colab_type": "text"
      },
      "source": [
        "<a href=\"https://colab.research.google.com/github/JairoAcevedo-BitCrafter/Taller-Naive-Bayes/blob/main/Taller_Mi%C3%A9rcoles_Semana_15.ipynb\" target=\"_parent\"><img src=\"https://colab.research.google.com/assets/colab-badge.svg\" alt=\"Open In Colab\"/></a>"
      ]
    },
    {
      "cell_type": "markdown",
      "source": [
        "#Naive Bayes Multinomial"
      ],
      "metadata": {
        "id": "EIvKalGgNSi0"
      }
    },
    {
      "cell_type": "code",
      "execution_count": 3,
      "metadata": {
        "colab": {
          "base_uri": "https://localhost:8080/"
        },
        "id": "DqnxiT8DMwv8",
        "outputId": "c8b12fd5-9797-45b9-d554-ae3c727259b9"
      },
      "outputs": [
        {
          "output_type": "stream",
          "name": "stdout",
          "text": [
            "['no spam' 'spam']\n",
            "['no spam' 'no spam' 'spam' 'spam']\n"
          ]
        }
      ],
      "source": [
        "from sklearn.feature_extraction.text import CountVectorizer\n",
        "from sklearn.naive_bayes import MultinomialNB\n",
        "from sklearn.pipeline import make_pipeline\n",
        "# Datos de ejemplo: mensajes y sus etiquetas\n",
        "messages = [\"oferta especial solo para ti\",             \"reunión a las 3pm\",             \"gana dinero fácilmente desde tu casa\",             \"cena familiar el domingo\",             \"conviértete en millonario con nuestro sistema\"]\n",
        "labels = [\"spam\", \"no spam\", \"spam\", \"no spam\", \"spam\"]\n",
        "\n",
        "model_mnb = make_pipeline(CountVectorizer(), MultinomialNB())\n",
        "model_mnb.fit(messages, labels)\n",
        "new_messages = [\"reunión a las 5pm\", \"descubre cómo ganar dinero fácilmente\"]\n",
        "y =model_mnb.predict(new_messages)\n",
        "print(y)\n",
        "my_messages=[\"reunión a las 10am\", \"cena a las 10pm después de tu reunión\", \"gana dinero con tu familia\", \"haste rico, gana dinero haciendo uso de nuestra oferta especial\"]\n",
        "y =model_mnb.predict(my_messages)\n",
        "print(y)"
      ]
    },
    {
      "cell_type": "markdown",
      "source": [
        "#Naive Bayes Gaussiano"
      ],
      "metadata": {
        "id": "4e8mc1JeO3nY"
      }
    },
    {
      "cell_type": "code",
      "source": [
        "from sklearn.datasets import load_iris\n",
        "from sklearn.model_selection import train_test_split\n",
        "from sklearn.naive_bayes import GaussianNB\n",
        "from sklearn import metrics\n",
        "\n",
        "iris = load_iris()\n",
        "X = iris.data\n",
        "y = iris.target\n",
        "\n",
        "X_train, X_test, y_train, y_test = train_test_split(X, y, test_size=0.2, random_state=17)\n",
        "\n",
        "gnb = GaussianNB()\n",
        "gnb.fit(X_train, y_train)\n",
        "\n",
        "y_pred = gnb.predict(X_test)\n",
        "\n",
        "accuracy = metrics.accuracy_score(y_test, y_pred)\n",
        "print(f'Precisión del modelo Naive Bayes: {accuracy:.6f}')\n",
        "mcc = metrics.matthews_corrcoef(y_test, y_pred)\n",
        "print(f'Matthews correlation coefficient: {mcc:.6f}')"
      ],
      "metadata": {
        "colab": {
          "base_uri": "https://localhost:8080/"
        },
        "id": "a9bZsCiYO5sA",
        "outputId": "5ea8c409-b3af-4977-92bd-389cbeb1055e"
      },
      "execution_count": 4,
      "outputs": [
        {
          "output_type": "stream",
          "name": "stdout",
          "text": [
            "Precisión del modelo Naive Bayes: 0.966667\n",
            "Matthews correlation coefficient: 0.950512\n"
          ]
        }
      ]
    }
  ]
}